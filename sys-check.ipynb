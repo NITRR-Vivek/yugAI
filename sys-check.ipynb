{
 "cells": [
  {
   "cell_type": "code",
   "execution_count": 3,
   "id": "14a02414",
   "metadata": {},
   "outputs": [],
   "source": [
    "import sys\n",
    "import tensorflow as tf\n",
    "import torch"
   ]
  },
  {
   "cell_type": "code",
   "execution_count": 4,
   "id": "f645c01a",
   "metadata": {},
   "outputs": [
    {
     "name": "stdout",
     "output_type": "stream",
     "text": [
      "Python Version    : 3.10.16\n",
      "TensorFlow Version: 2.19.0\n",
      "TensorFlow GPU    : Not Available\n",
      "PyTorch Version   : 2.5.1+cu121\n",
      "CUDA Available    : True\n",
      "CUDA Version      : 12.1\n",
      "GPU Name          : NVIDIA RTX A2000 12GB\n"
     ]
    }
   ],
   "source": [
    "def print_system_info():\n",
    "    print(f\"Python Version    : {sys.version.split()[0]}\")\n",
    "    \n",
    "    # TensorFlow version and GPU info\n",
    "    print(f\"TensorFlow Version: {tf.__version__}\")\n",
    "    if tf.config.list_physical_devices('GPU'):\n",
    "        print(\"TensorFlow GPU    :\", tf.config.list_physical_devices('GPU')[0].name)\n",
    "    else:\n",
    "        print(\"TensorFlow GPU    : Not Available\")\n",
    "\n",
    "    # PyTorch version and GPU info\n",
    "    print(f\"PyTorch Version   : {torch.__version__}\")\n",
    "    print(\"CUDA Available    :\", torch.cuda.is_available())\n",
    "    if torch.cuda.is_available():\n",
    "        print(f\"CUDA Version      : {torch.version.cuda}\")\n",
    "        print(f\"GPU Name          : {torch.cuda.get_device_name(0)}\")\n",
    "    else:\n",
    "        print(\"GPU Name          : Not Available\")\n",
    "\n",
    "if __name__ == \"__main__\":\n",
    "    print_system_info()"
   ]
  },
  {
   "cell_type": "code",
   "execution_count": null,
   "id": "d46f2d1f",
   "metadata": {},
   "outputs": [],
   "source": []
  }
 ],
 "metadata": {
  "kernelspec": {
   "display_name": "IITR_SCU",
   "language": "python",
   "name": "python3"
  },
  "language_info": {
   "codemirror_mode": {
    "name": "ipython",
    "version": 3
   },
   "file_extension": ".py",
   "mimetype": "text/x-python",
   "name": "python",
   "nbconvert_exporter": "python",
   "pygments_lexer": "ipython3",
   "version": "3.10.16"
  }
 },
 "nbformat": 4,
 "nbformat_minor": 5
}
